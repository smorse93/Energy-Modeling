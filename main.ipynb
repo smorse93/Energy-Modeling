{
 "cells": [
  {
   "cell_type": "markdown",
   "metadata": {},
   "source": [
    "This program will collect real time pricing information from various MISO hub locations\n",
    "- Each day of the real time pricing will be extracted and flattened to create a rate curve for each day\n",
    "- A user will then say how much storage capacity they have and how fast their rate of charge is \n",
    "- The program will then decide how many hours of charging you will need in a day + a factor of safety of 1.5\n",
    "- Knowing the hours of charging each day, we can select the lowest portion of the pricing to fulfill the charging need \n",
    "* then apply this to every day\n",
    "- Once this is completed, the program will average the cost per kw/h using storage over the year vs the average cost per kw/h \n"
   ]
  },
  {
   "cell_type": "markdown",
   "metadata": {},
   "source": []
  },
  {
   "cell_type": "markdown",
   "metadata": {},
   "source": [
    "1. Bring in the hub spot price\n",
    "- get necesssary packages\n",
    "- pull data\n",
    "- put into necessary format"
   ]
  },
  {
   "cell_type": "code",
   "execution_count": 6,
   "metadata": {},
   "outputs": [
    {
     "data": {
      "text/html": [
       "<div>\n",
       "<style scoped>\n",
       "    .dataframe tbody tr th:only-of-type {\n",
       "        vertical-align: middle;\n",
       "    }\n",
       "\n",
       "    .dataframe tbody tr th {\n",
       "        vertical-align: top;\n",
       "    }\n",
       "\n",
       "    .dataframe thead th {\n",
       "        text-align: right;\n",
       "    }\n",
       "</style>\n",
       "<table border=\"1\" class=\"dataframe\">\n",
       "  <thead>\n",
       "    <tr style=\"text-align: right;\">\n",
       "      <th></th>\n",
       "      <th>Date</th>\n",
       "      <th>LMP</th>\n",
       "      <th>HUB</th>\n",
       "      <th>Day</th>\n",
       "    </tr>\n",
       "  </thead>\n",
       "  <tbody>\n",
       "    <tr>\n",
       "      <th>0</th>\n",
       "      <td>1/1/22 0:00</td>\n",
       "      <td>27.12</td>\n",
       "      <td>ARKANSAS.HUB</td>\n",
       "      <td>1/1/22</td>\n",
       "    </tr>\n",
       "    <tr>\n",
       "      <th>1</th>\n",
       "      <td>1/1/22 0:00</td>\n",
       "      <td>22.46</td>\n",
       "      <td>ILLINOIS.HUB</td>\n",
       "      <td>1/1/22</td>\n",
       "    </tr>\n",
       "    <tr>\n",
       "      <th>2</th>\n",
       "      <td>1/1/22 0:00</td>\n",
       "      <td>23.39</td>\n",
       "      <td>INDIANA.HUB</td>\n",
       "      <td>1/1/22</td>\n",
       "    </tr>\n",
       "    <tr>\n",
       "      <th>3</th>\n",
       "      <td>1/1/22 0:00</td>\n",
       "      <td>28.56</td>\n",
       "      <td>TEXAS.HUB</td>\n",
       "      <td>1/1/22</td>\n",
       "    </tr>\n",
       "    <tr>\n",
       "      <th>4</th>\n",
       "      <td>1/1/22 0:00</td>\n",
       "      <td>28.72</td>\n",
       "      <td>LOUISIANA.HUB</td>\n",
       "      <td>1/1/22</td>\n",
       "    </tr>\n",
       "    <tr>\n",
       "      <th>...</th>\n",
       "      <td>...</td>\n",
       "      <td>...</td>\n",
       "      <td>...</td>\n",
       "      <td>...</td>\n",
       "    </tr>\n",
       "    <tr>\n",
       "      <th>65701</th>\n",
       "      <td>12/31/22 22:00</td>\n",
       "      <td>24.54</td>\n",
       "      <td>MICHIGAN.HUB</td>\n",
       "      <td>12/31/22</td>\n",
       "    </tr>\n",
       "    <tr>\n",
       "      <th>65702</th>\n",
       "      <td>12/31/22 22:00</td>\n",
       "      <td>23.07</td>\n",
       "      <td>MINN.HUB</td>\n",
       "      <td>12/31/22</td>\n",
       "    </tr>\n",
       "    <tr>\n",
       "      <th>65703</th>\n",
       "      <td>12/31/22 22:00</td>\n",
       "      <td>23.40</td>\n",
       "      <td>MS.HUB</td>\n",
       "      <td>12/31/22</td>\n",
       "    </tr>\n",
       "    <tr>\n",
       "      <th>65704</th>\n",
       "      <td>12/31/22 22:00</td>\n",
       "      <td>22.92</td>\n",
       "      <td>ARKANSAS.HUB</td>\n",
       "      <td>12/31/22</td>\n",
       "    </tr>\n",
       "    <tr>\n",
       "      <th>65705</th>\n",
       "      <td>12/31/22 22:00</td>\n",
       "      <td>23.08</td>\n",
       "      <td>TEXAS.HUB</td>\n",
       "      <td>12/31/22</td>\n",
       "    </tr>\n",
       "  </tbody>\n",
       "</table>\n",
       "<p>65706 rows × 4 columns</p>\n",
       "</div>"
      ],
      "text/plain": [
       "                 Date    LMP            HUB       Day\n",
       "0         1/1/22 0:00  27.12   ARKANSAS.HUB    1/1/22\n",
       "1         1/1/22 0:00  22.46   ILLINOIS.HUB    1/1/22\n",
       "2         1/1/22 0:00  23.39    INDIANA.HUB    1/1/22\n",
       "3         1/1/22 0:00  28.56      TEXAS.HUB    1/1/22\n",
       "4         1/1/22 0:00  28.72  LOUISIANA.HUB    1/1/22\n",
       "...               ...    ...            ...       ...\n",
       "65701  12/31/22 22:00  24.54   MICHIGAN.HUB  12/31/22\n",
       "65702  12/31/22 22:00  23.07       MINN.HUB  12/31/22\n",
       "65703  12/31/22 22:00  23.40         MS.HUB  12/31/22\n",
       "65704  12/31/22 22:00  22.92   ARKANSAS.HUB  12/31/22\n",
       "65705  12/31/22 22:00  23.08      TEXAS.HUB  12/31/22\n",
       "\n",
       "[65706 rows x 4 columns]"
      ]
     },
     "metadata": {},
     "output_type": "display_data"
    }
   ],
   "source": [
    "import numpy as np\n",
    "import operator\n",
    "import pandas as pd\n",
    "import matplotlib\n",
    "import matplotlib.pyplot as plt\n",
    "\n",
    "df = pd.read_csv('Data/2022MISOActualHUBEnergyPrice.csv')\n",
    "\n",
    "#create a new column called day in df that has just the date and not the time from the Date column\n",
    "df['Day'] = df['Date'].str.split(' ').str[0]\n",
    "display(df)\n"
   ]
  },
  {
   "attachments": {},
   "cell_type": "markdown",
   "metadata": {},
   "source": [
    "Each day of the real time pricing will be extracted and flattened to create a rate curve for each day\n",
    "* isolate by each state\n",
    "* \n"
   ]
  },
  {
   "cell_type": "code",
   "execution_count": 50,
   "metadata": {},
   "outputs": [
    {
     "data": {
      "text/html": [
       "<div>\n",
       "<style scoped>\n",
       "    .dataframe tbody tr th:only-of-type {\n",
       "        vertical-align: middle;\n",
       "    }\n",
       "\n",
       "    .dataframe tbody tr th {\n",
       "        vertical-align: top;\n",
       "    }\n",
       "\n",
       "    .dataframe thead th {\n",
       "        text-align: right;\n",
       "    }\n",
       "</style>\n",
       "<table border=\"1\" class=\"dataframe\">\n",
       "  <thead>\n",
       "    <tr style=\"text-align: right;\">\n",
       "      <th></th>\n",
       "      <th>HUB</th>\n",
       "      <th>LMP</th>\n",
       "    </tr>\n",
       "  </thead>\n",
       "  <tbody>\n",
       "    <tr>\n",
       "      <th>0</th>\n",
       "      <td>ARKANSAS.HUB</td>\n",
       "      <td>60.545411</td>\n",
       "    </tr>\n",
       "    <tr>\n",
       "      <th>1</th>\n",
       "      <td>ILLINOIS.HUB</td>\n",
       "      <td>62.372551</td>\n",
       "    </tr>\n",
       "    <tr>\n",
       "      <th>2</th>\n",
       "      <td>INDIANA.HUB</td>\n",
       "      <td>72.098010</td>\n",
       "    </tr>\n",
       "    <tr>\n",
       "      <th>3</th>\n",
       "      <td>LOUISIANA.HUB</td>\n",
       "      <td>62.974997</td>\n",
       "    </tr>\n",
       "    <tr>\n",
       "      <th>4</th>\n",
       "      <td>MICHIGAN.HUB</td>\n",
       "      <td>66.382847</td>\n",
       "    </tr>\n",
       "    <tr>\n",
       "      <th>5</th>\n",
       "      <td>MINN.HUB</td>\n",
       "      <td>44.336118</td>\n",
       "    </tr>\n",
       "    <tr>\n",
       "      <th>6</th>\n",
       "      <td>MS.HUB</td>\n",
       "      <td>61.511871</td>\n",
       "    </tr>\n",
       "    <tr>\n",
       "      <th>7</th>\n",
       "      <td>TEXAS.HUB</td>\n",
       "      <td>62.304199</td>\n",
       "    </tr>\n",
       "  </tbody>\n",
       "</table>\n",
       "</div>"
      ],
      "text/plain": [
       "             HUB        LMP\n",
       "0   ARKANSAS.HUB  60.545411\n",
       "1   ILLINOIS.HUB  62.372551\n",
       "2    INDIANA.HUB  72.098010\n",
       "3  LOUISIANA.HUB  62.974997\n",
       "4   MICHIGAN.HUB  66.382847\n",
       "5       MINN.HUB  44.336118\n",
       "6         MS.HUB  61.511871\n",
       "7      TEXAS.HUB  62.304199"
      ]
     },
     "metadata": {},
     "output_type": "display_data"
    }
   ],
   "source": [
    "#find the average LMP value for each item in the HUB column\n",
    "dfHub = df.groupby('HUB')\n",
    "dfHubMean = dfHub.mean()\n",
    "\n",
    "#add indexes to the dfHubMean dataframe\n",
    "dfHubMean = dfHubMean.reset_index()\n",
    "display(dfHubMean)"
   ]
  },
  {
   "cell_type": "code",
   "execution_count": 21,
   "metadata": {},
   "outputs": [
    {
     "data": {
      "text/html": [
       "<div>\n",
       "<style scoped>\n",
       "    .dataframe tbody tr th:only-of-type {\n",
       "        vertical-align: middle;\n",
       "    }\n",
       "\n",
       "    .dataframe tbody tr th {\n",
       "        vertical-align: top;\n",
       "    }\n",
       "\n",
       "    .dataframe thead th {\n",
       "        text-align: right;\n",
       "    }\n",
       "</style>\n",
       "<table border=\"1\" class=\"dataframe\">\n",
       "  <thead>\n",
       "    <tr style=\"text-align: right;\">\n",
       "      <th></th>\n",
       "      <th>Date</th>\n",
       "      <th>LMP</th>\n",
       "      <th>HUB</th>\n",
       "      <th>Day</th>\n",
       "    </tr>\n",
       "  </thead>\n",
       "  <tbody>\n",
       "    <tr>\n",
       "      <th>0</th>\n",
       "      <td>1/1/22 0:00</td>\n",
       "      <td>27.12</td>\n",
       "      <td>ARKANSAS.HUB</td>\n",
       "      <td>1/1/22</td>\n",
       "    </tr>\n",
       "    <tr>\n",
       "      <th>1</th>\n",
       "      <td>1/1/22 0:00</td>\n",
       "      <td>22.46</td>\n",
       "      <td>ILLINOIS.HUB</td>\n",
       "      <td>1/1/22</td>\n",
       "    </tr>\n",
       "    <tr>\n",
       "      <th>2</th>\n",
       "      <td>1/1/22 0:00</td>\n",
       "      <td>23.39</td>\n",
       "      <td>INDIANA.HUB</td>\n",
       "      <td>1/1/22</td>\n",
       "    </tr>\n",
       "    <tr>\n",
       "      <th>3</th>\n",
       "      <td>1/1/22 0:00</td>\n",
       "      <td>28.56</td>\n",
       "      <td>TEXAS.HUB</td>\n",
       "      <td>1/1/22</td>\n",
       "    </tr>\n",
       "    <tr>\n",
       "      <th>4</th>\n",
       "      <td>1/1/22 0:00</td>\n",
       "      <td>28.72</td>\n",
       "      <td>LOUISIANA.HUB</td>\n",
       "      <td>1/1/22</td>\n",
       "    </tr>\n",
       "    <tr>\n",
       "      <th>...</th>\n",
       "      <td>...</td>\n",
       "      <td>...</td>\n",
       "      <td>...</td>\n",
       "      <td>...</td>\n",
       "    </tr>\n",
       "    <tr>\n",
       "      <th>65597</th>\n",
       "      <td>12/31/22 9:00</td>\n",
       "      <td>25.44</td>\n",
       "      <td>INDIANA.HUB</td>\n",
       "      <td>12/31/22</td>\n",
       "    </tr>\n",
       "    <tr>\n",
       "      <th>65598</th>\n",
       "      <td>12/31/22 9:00</td>\n",
       "      <td>23.66</td>\n",
       "      <td>LOUISIANA.HUB</td>\n",
       "      <td>12/31/22</td>\n",
       "    </tr>\n",
       "    <tr>\n",
       "      <th>65599</th>\n",
       "      <td>12/31/22 9:00</td>\n",
       "      <td>25.45</td>\n",
       "      <td>MICHIGAN.HUB</td>\n",
       "      <td>12/31/22</td>\n",
       "    </tr>\n",
       "    <tr>\n",
       "      <th>65600</th>\n",
       "      <td>12/31/22 9:00</td>\n",
       "      <td>22.21</td>\n",
       "      <td>MINN.HUB</td>\n",
       "      <td>12/31/22</td>\n",
       "    </tr>\n",
       "    <tr>\n",
       "      <th>65601</th>\n",
       "      <td>12/31/22 9:00</td>\n",
       "      <td>23.45</td>\n",
       "      <td>MS.HUB</td>\n",
       "      <td>12/31/22</td>\n",
       "    </tr>\n",
       "  </tbody>\n",
       "</table>\n",
       "<p>29192 rows × 4 columns</p>\n",
       "</div>"
      ],
      "text/plain": [
       "                Date    LMP            HUB       Day\n",
       "0        1/1/22 0:00  27.12   ARKANSAS.HUB    1/1/22\n",
       "1        1/1/22 0:00  22.46   ILLINOIS.HUB    1/1/22\n",
       "2        1/1/22 0:00  23.39    INDIANA.HUB    1/1/22\n",
       "3        1/1/22 0:00  28.56      TEXAS.HUB    1/1/22\n",
       "4        1/1/22 0:00  28.72  LOUISIANA.HUB    1/1/22\n",
       "...              ...    ...            ...       ...\n",
       "65597  12/31/22 9:00  25.44    INDIANA.HUB  12/31/22\n",
       "65598  12/31/22 9:00  23.66  LOUISIANA.HUB  12/31/22\n",
       "65599  12/31/22 9:00  25.45   MICHIGAN.HUB  12/31/22\n",
       "65600  12/31/22 9:00  22.21       MINN.HUB  12/31/22\n",
       "65601  12/31/22 9:00  23.45         MS.HUB  12/31/22\n",
       "\n",
       "[29192 rows x 4 columns]"
      ]
     },
     "metadata": {},
     "output_type": "display_data"
    }
   ],
   "source": [
    "#for each HUB, group the data by day and find the average LMP value for each day\n",
    "dfHubDay = df.groupby(['HUB', 'Day'])\n",
    "\n",
    "#sort LMP values in dfHubDay from lowest to highest LMP value\n",
    "dfHubDaySorted = dfHubDay.mean().sort_values(by=['LMP'], ascending=True)\n",
    "#display first ten rows of dfHubDaySorted\n",
    "display(dfHubDay.head(10))\n",
    "\n",
    "\n",
    "\n",
    "\n",
    "\n",
    "\n",
    "\n"
   ]
  },
  {
   "cell_type": "code",
   "execution_count": 51,
   "metadata": {},
   "outputs": [
    {
     "data": {
      "text/plain": [
       "42.154428610578236"
      ]
     },
     "metadata": {},
     "output_type": "display_data"
    },
    {
     "data": {
      "text/plain": [
       "50.63027130720745"
      ]
     },
     "metadata": {},
     "output_type": "display_data"
    },
    {
     "data": {
      "text/plain": [
       "47.50397369142231"
      ]
     },
     "metadata": {},
     "output_type": "display_data"
    },
    {
     "data": {
      "text/plain": [
       "44.34481775828994"
      ]
     },
     "metadata": {},
     "output_type": "display_data"
    },
    {
     "data": {
      "text/plain": [
       "45.955324746505894"
      ]
     },
     "metadata": {},
     "output_type": "display_data"
    },
    {
     "data": {
      "text/plain": [
       "44.73228829816388"
      ]
     },
     "metadata": {},
     "output_type": "display_data"
    },
    {
     "data": {
      "text/plain": [
       "45.82281995067142"
      ]
     },
     "metadata": {},
     "output_type": "display_data"
    },
    {
     "data": {
      "text/plain": [
       "25.93127980268567"
      ]
     },
     "metadata": {},
     "output_type": "display_data"
    },
    {
     "data": {
      "text/html": [
       "<div>\n",
       "<style scoped>\n",
       "    .dataframe tbody tr th:only-of-type {\n",
       "        vertical-align: middle;\n",
       "    }\n",
       "\n",
       "    .dataframe tbody tr th {\n",
       "        vertical-align: top;\n",
       "    }\n",
       "\n",
       "    .dataframe thead th {\n",
       "        text-align: right;\n",
       "    }\n",
       "</style>\n",
       "<table border=\"1\" class=\"dataframe\">\n",
       "  <thead>\n",
       "    <tr style=\"text-align: right;\">\n",
       "      <th></th>\n",
       "      <th>State</th>\n",
       "      <th>Average Discounted LMP</th>\n",
       "      <th>Average LMP</th>\n",
       "    </tr>\n",
       "  </thead>\n",
       "  <tbody>\n",
       "    <tr>\n",
       "      <th>4</th>\n",
       "      <td>Arkansas</td>\n",
       "      <td>44.344818</td>\n",
       "      <td>66.382847</td>\n",
       "    </tr>\n",
       "    <tr>\n",
       "      <th>1</th>\n",
       "      <td>Illinois</td>\n",
       "      <td>42.154429</td>\n",
       "      <td>62.372551</td>\n",
       "    </tr>\n",
       "    <tr>\n",
       "      <th>2</th>\n",
       "      <td>Indiana</td>\n",
       "      <td>50.630271</td>\n",
       "      <td>72.098010</td>\n",
       "    </tr>\n",
       "    <tr>\n",
       "      <th>5</th>\n",
       "      <td>Louisiana</td>\n",
       "      <td>45.955325</td>\n",
       "      <td>44.336118</td>\n",
       "    </tr>\n",
       "    <tr>\n",
       "      <th>3</th>\n",
       "      <td>Michigan</td>\n",
       "      <td>47.503974</td>\n",
       "      <td>62.974997</td>\n",
       "    </tr>\n",
       "    <tr>\n",
       "      <th>0</th>\n",
       "      <td>Minnesota</td>\n",
       "      <td>25.931280</td>\n",
       "      <td>60.545411</td>\n",
       "    </tr>\n",
       "    <tr>\n",
       "      <th>6</th>\n",
       "      <td>Mississippi</td>\n",
       "      <td>44.732288</td>\n",
       "      <td>61.511871</td>\n",
       "    </tr>\n",
       "    <tr>\n",
       "      <th>7</th>\n",
       "      <td>Texas</td>\n",
       "      <td>45.822820</td>\n",
       "      <td>62.304199</td>\n",
       "    </tr>\n",
       "  </tbody>\n",
       "</table>\n",
       "</div>"
      ],
      "text/plain": [
       "         State  Average Discounted LMP  Average LMP\n",
       "4     Arkansas               44.344818    66.382847\n",
       "1     Illinois               42.154429    62.372551\n",
       "2      Indiana               50.630271    72.098010\n",
       "5    Louisiana               45.955325    44.336118\n",
       "3     Michigan               47.503974    62.974997\n",
       "0    Minnesota               25.931280    60.545411\n",
       "6  Mississippi               44.732288    61.511871\n",
       "7        Texas               45.822820    62.304199"
      ]
     },
     "metadata": {},
     "output_type": "display_data"
    },
    {
     "data": {
      "text/plain": [
       "0    60.545411\n",
       "1    62.372551\n",
       "2    72.098010\n",
       "3    62.974997\n",
       "4    66.382847\n",
       "5    44.336118\n",
       "6    61.511871\n",
       "7    62.304199\n",
       "Name: LMP, dtype: float64"
      ]
     },
     "metadata": {},
     "output_type": "display_data"
    }
   ],
   "source": [
    "#seperate the state\n",
    "dfIllinois = df[df['HUB'] == 'ILLINOIS.HUB']\n",
    "dfIllinoisDay = dfIllinois.groupby('Day')\n",
    "#sort the values by day and order them from smallest to largest and display only the first 10 rows (out of 24) for each day \n",
    "dfIllinoisSort = dfIllinois.sort_values(['Day','LMP'],ascending=True).groupby('Day').head(10)\n",
    "#get the mean LMP value for dfIllinoisSort\n",
    "dfIllinoisSortMean = dfIllinoisSort['LMP'].mean()\n",
    "display(dfIllinoisSortMean)\n",
    "\n",
    "#repeat the above steps for all of the items in the HUB column\n",
    "dfIndiana = df[df['HUB'] == 'INDIANA.HUB']\n",
    "dfIndianaDay = dfIndiana.groupby('Day')\n",
    "dfIndianaSort = dfIndiana.sort_values(['Day','LMP'],ascending=True).groupby('Day').head(10)\n",
    "dfIndianaSortMean = dfIndianaSort['LMP'].mean()\n",
    "display(dfIndianaSortMean)\n",
    "\n",
    "dfMichigan = df[df['HUB'] == 'MICHIGAN.HUB']\n",
    "dfMichiganDay = dfMichigan.groupby('Day')\n",
    "dfMichiganSort = dfMichigan.sort_values(['Day','LMP'],ascending=True).groupby('Day').head(10)\n",
    "dfMichiganSortMean = dfMichiganSort['LMP'].mean()\n",
    "display(dfMichiganSortMean)\n",
    "\n",
    "dfArkansas = df[df['HUB'] == 'ARKANSAS.HUB']\n",
    "dfArkansasDay = dfArkansas.groupby('Day')\n",
    "dfArkansasSort = dfArkansas.sort_values(['Day','LMP'],ascending=True).groupby('Day').head(10)\n",
    "dfArkansasSortMean = dfArkansasSort['LMP'].mean()\n",
    "display(dfArkansasSortMean)\n",
    "\n",
    "dfLouisiana = df[df['HUB'] == 'LOUISIANA.HUB']\n",
    "dfLouisianaDay = dfLouisiana.groupby('Day')\n",
    "dfLouisianaSort = dfLouisiana.sort_values(['Day','LMP'],ascending=True).groupby('Day').head(10)\n",
    "dfLouisianaSortMean = dfLouisianaSort['LMP'].mean()\n",
    "display(dfLouisianaSortMean)\n",
    "\n",
    "dfMississippi = df[df['HUB'] == 'MS.HUB']\n",
    "dfMississippiDay = dfMississippi.groupby('Day')\n",
    "dfMississippiSort = dfMississippi.sort_values(['Day','LMP'],ascending=True).groupby('Day').head(10)\n",
    "dfMississippiSortMean = dfMississippiSort['LMP'].mean()\n",
    "display(dfMississippiSortMean)\n",
    "\n",
    "dfTexas = df[df['HUB'] == 'TEXAS.HUB']\n",
    "dfTexasDay = dfTexas.groupby('Day')\n",
    "dfTexasSort = dfTexas.sort_values(['Day','LMP'],ascending=True).groupby('Day').head(10)\n",
    "dfTexasSortMean = dfTexasSort['LMP'].mean()\n",
    "display(dfTexasSortMean)\n",
    "\n",
    "dfMinn = df[df['HUB'] == 'MINN.HUB']\n",
    "dfMinnDay = dfMinn.groupby('Day')\n",
    "dfMinnSort = dfMinn.sort_values(['Day','LMP'],ascending=True).groupby('Day').head(10)\n",
    "dfMinnSortMean = dfMinnSort['LMP'].mean()\n",
    "display(dfMinnSortMean)\n",
    "\n",
    "#Combine into a list\n",
    "ListOfStateAverages = dfMinnSortMean, dfIllinoisSortMean, dfIndianaSortMean, dfMichiganSortMean, dfArkansasSortMean, dfLouisianaSortMean, dfMississippiSortMean, dfTexasSortMean\n",
    "States = ['Minnesota', 'Illinois', 'Indiana', 'Michigan', 'Arkansas', 'Louisiana', 'Mississippi', 'Texas']\n",
    "\n",
    "dfHUBAverages = pd.DataFrame({'State': States, 'Average Discounted LMP': ListOfStateAverages})\n",
    "#sort states by alphabetical order\n",
    "dfHUBAverages.sort_values(by=['State'], inplace=True)\n",
    "\n",
    "#add another column that takes the LMP values from dfHUBMean\n",
    "dfHUBAverages['Average LMP'] = dfHubMean['LMP']\n",
    "\n",
    "display(dfHUBAverages)\n",
    "\n"
   ]
  },
  {
   "cell_type": "code",
   "execution_count": 31,
   "metadata": {},
   "outputs": [
    {
     "data": {
      "text/plain": [
       "42.154428610578236"
      ]
     },
     "metadata": {},
     "output_type": "display_data"
    }
   ],
   "source": []
  },
  {
   "cell_type": "code",
   "execution_count": null,
   "metadata": {},
   "outputs": [],
   "source": []
  }
 ],
 "metadata": {
  "kernelspec": {
   "display_name": "Python 3",
   "language": "python",
   "name": "python3"
  },
  "language_info": {
   "codemirror_mode": {
    "name": "ipython",
    "version": 3
   },
   "file_extension": ".py",
   "mimetype": "text/x-python",
   "name": "python",
   "nbconvert_exporter": "python",
   "pygments_lexer": "ipython3",
   "version": "3.7.8"
  },
  "orig_nbformat": 4
 },
 "nbformat": 4,
 "nbformat_minor": 2
}
