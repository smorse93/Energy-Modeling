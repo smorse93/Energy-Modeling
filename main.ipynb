{
 "cells": [
  {
   "cell_type": "markdown",
   "metadata": {},
   "source": [
    "This program will collect real time pricing information from various MISO hub locations\n",
    "- Each day of the real time pricing will be extracted and flattened to create a rate curve for each day\n",
    "- A user will then say how much storage capacity they have and how fast their rate of charge is \n",
    "- The program will then decide how many hours of charging you will need in a day + a factor of safety of 1.5\n",
    "- Knowing the hours of charging each day, we can select the lowest portion of the pricing to fulfill the charging need \n",
    "* then apply this to every day\n",
    "- Once this is completed, the program will average the cost per kw/h using storage over the year vs the average cost per kw/h \n"
   ]
  },
  {
   "cell_type": "markdown",
   "metadata": {},
   "source": [
    "1. Bring in the hub spot price\n",
    "- get necesssary packages\n",
    "- pull data\n",
    "- put into necessary format"
   ]
  },
  {
   "cell_type": "code",
   "execution_count": null,
   "metadata": {},
   "outputs": [],
   "source": []
  }
 ],
 "metadata": {
  "language_info": {
   "name": "python"
  },
  "orig_nbformat": 4
 },
 "nbformat": 4,
 "nbformat_minor": 2
}
